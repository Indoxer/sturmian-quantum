{
 "cells": [
  {
   "cell_type": "code",
   "execution_count": 1,
   "metadata": {},
   "outputs": [],
   "source": [
    "import numpy as np\n",
    "import matplotlib.pyplot as plt\n",
    "import scipy as sp\n",
    "from tqdm import tqdm"
   ]
  },
  {
   "cell_type": "code",
   "execution_count": 2,
   "metadata": {},
   "outputs": [],
   "source": [
    "def GLP(x, n, alpha): # Generalized Laguerre polynomials\n",
    "    L0 = np.ones(x.shape, dtype=x.dtype)\n",
    "    L1 = 1.0 + alpha - x\n",
    "    \n",
    "    if n == 0:\n",
    "        Ln = L0\n",
    "    if n == 1:\n",
    "        Ln = L1\n",
    "    \n",
    "    for i in range(2, n+1):\n",
    "        k = i - 1\n",
    "        Ln = (((2*k + 1 + alpha - x))*L1 - (k + alpha)*L0)/(k+1)\n",
    "        L0, L1 = L1, Ln\n",
    "        \n",
    "    return Ln\n",
    "\n",
    "def Skl(r, k, l, q): # Sturmian\n",
    "    return (\n",
    "        np.sqrt((np.math.factorial(k) / (2 * np.math.factorial(2 * l + 1 + k))))\n",
    "        * np.exp(-q * r)\n",
    "        * ((2 * q * r) ** (l + 1))\n",
    "        * GLP(2 * q * r, k, 2 * l + 1)\n",
    "    )\n",
    "\n",
    "def V(r):\n",
    "    return -1 / r"
   ]
  },
  {
   "cell_type": "code",
   "execution_count": 3,
   "metadata": {},
   "outputs": [],
   "source": [
    "def HB(N, l, q, r_min, r_max, Nr, dtype):\n",
    "    print(f\"H,B calculation for N={N}\")\n",
    "    \n",
    "    x = np.linspace(np.sqrt(r_min), np.sqrt(r_max), Nr+1, dtype=dtype)\n",
    "    B = np.zeros((N, N), dtype=dtype)\n",
    "    H = np.zeros((N, N), dtype=dtype)\n",
    "    S = np.zeros((N, Nr), dtype=dtype)\n",
    "    S_diff = np.zeros((N, Nr), dtype=dtype)\n",
    "    \n",
    "    r1 = (x**2)\n",
    "    r = r1[0:-1]\n",
    "    dr = r1[1:]-r\n",
    "    \n",
    "    V_r = V(r)\n",
    "\n",
    "    print(\"Sturmian Calculation...\")\n",
    "    \n",
    "    \n",
    "    for n in tqdm(range(N)):\n",
    "        Sn = Skl(r1, n, l, q)\n",
    "        S[n] = Sn[0:-1]\n",
    "        S_diff[n] = (Sn[1:]-Sn[:-1])/dr\n",
    "        \n",
    "    print(\"H, B Calculation...\")\n",
    "\n",
    "    for n in tqdm(range(N)):\n",
    "        for k in range(n, N):\n",
    "            \n",
    "            B[n, k] = (S[n] * S[k] * dr).sum()\n",
    "            H[n, k] = (\n",
    "                (\n",
    "                    (1/2)*S_diff[n]*S_diff[k] + \n",
    "                    S[n]*S[k]*(V_r + (l)*(l+1)/(2*r**2))\n",
    "                )\n",
    "                * (dr)\n",
    "            ).sum()\n",
    "            \n",
    "            if n != k:\n",
    "                B[k, n] = B[n, k]\n",
    "                H[k, n] = H[n, k]\n",
    "            \n",
    "    return H, B"
   ]
  },
  {
   "cell_type": "code",
   "execution_count": 4,
   "metadata": {},
   "outputs": [],
   "source": [
    "N = 10\n",
    "l = 0\n",
    "q = 0.7\n",
    "\n",
    "r_min = 10**-13\n",
    "r_max = 1000\n",
    "Nr = 100000"
   ]
  },
  {
   "cell_type": "code",
   "execution_count": 5,
   "metadata": {},
   "outputs": [
    {
     "name": "stdout",
     "output_type": "stream",
     "text": [
      "H,B calculation for N=10\n",
      "Sturmian Calculation...\n"
     ]
    },
    {
     "name": "stderr",
     "output_type": "stream",
     "text": [
      "  0%|          | 0/10 [00:00<?, ?it/s]"
     ]
    },
    {
     "name": "stderr",
     "output_type": "stream",
     "text": [
      "/tmp/ipykernel_4929/3050554923.py:19: DeprecationWarning: `np.math` is a deprecated alias for the standard library `math` module (Deprecated Numpy 1.25). Replace usages of `np.math` with `math`\n",
      "  np.sqrt((np.math.factorial(k) / (2 * np.math.factorial(2 * l + 1 + k))))\n",
      "100%|██████████| 10/10 [00:00<00:00, 110.65it/s]\n"
     ]
    },
    {
     "name": "stdout",
     "output_type": "stream",
     "text": [
      "H, B Calculation...\n"
     ]
    },
    {
     "name": "stderr",
     "output_type": "stream",
     "text": [
      "100%|██████████| 10/10 [00:00<00:00, 84.44it/s]\n"
     ]
    }
   ],
   "source": [
    "H, B = HB(N, l, q, r_min, r_max, Nr, np.float64)\n",
    "eigenvalues, eigenvectors = sp.linalg.eigh(H, B)\n",
    "eigenvalues.sort() # 15.3s"
   ]
  },
  {
   "cell_type": "code",
   "execution_count": 6,
   "metadata": {},
   "outputs": [
    {
     "data": {
      "text/plain": [
       "<matplotlib.colorbar.Colorbar at 0x7fb30ff13580>"
      ]
     },
     "execution_count": 6,
     "metadata": {},
     "output_type": "execute_result"
    },
    {
     "data": {
      "image/png": "[encoded data removed]",
      "text/plain": [
       "<Figure size 640x480 with 2 Axes>"
      ]
     },
     "metadata": {},
     "output_type": "display_data"
    }
   ],
   "source": [
    "plt.imshow(H)\n",
    "plt.colorbar()"
   ]
  },
  {
   "cell_type": "code",
   "execution_count": 221,
   "metadata": {},
   "outputs": [
    {
     "data": {
      "text/plain": [
       "-0.5000006783775198"
      ]
     },
     "execution_count": 221,
     "metadata": {},
     "output_type": "execute_result"
    }
   ],
   "source": [
    "eigenvalues[0]\n",
    "# -0.5000875995313023 for normal\n",
    "# -0.5000680492036502 for sqrt"
   ]
  },
  {
   "cell_type": "code",
   "execution_count": null,
   "metadata": {},
   "outputs": [],
   "source": []
  }
 ],
 "metadata": {
  "kernelspec": {
   "display_name": "indoxer",
   "language": "python",
   "name": "python3"
  },
  "language_info": {
   "codemirror_mode": {
    "name": "ipython",
    "version": 3
   },
   "file_extension": ".py",
   "mimetype": "text/x-python",
   "name": "python",
   "nbconvert_exporter": "python",
   "pygments_lexer": "ipython3",
   "version": "3.10.0"
  }
 },
 "nbformat": 4,
 "nbformat_minor": 2
}
